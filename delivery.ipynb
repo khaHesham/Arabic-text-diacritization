{
 "cells": [
  {
   "cell_type": "code",
   "execution_count": 1,
   "metadata": {},
   "outputs": [],
   "source": [
    "import torch\n",
    "from CBHG import CBHGModel\n",
    "from diacritizer import Diacritizer\n",
    "from dataset import DiacriticsDataset\n",
    "import pandas as pd\n",
    "from baseline import BaseLineModel"
   ]
  },
  {
   "cell_type": "code",
   "execution_count": 2,
   "metadata": {},
   "outputs": [],
   "source": [
    "test_dataset_path = 'dataset/test_no_diacritics.txt'\n",
    "# model_path = 'models/CBHG_EP20_BS256.pth'\n",
    "output_csv_path = 'output/labels.csv'\n",
    "test_dataset_diacritized_path = 'output/diacritized.txt'\n",
    "train_dataset_path = 'dataset/train_val_test.txt'"
   ]
  },
  {
   "cell_type": "code",
   "execution_count": null,
   "metadata": {},
   "outputs": [],
   "source": [
    "train_dataset = DiacriticsDataset()\n",
    "train_dataset.load('dataset/train.txt')"
   ]
  },
  {
   "cell_type": "code",
   "execution_count": null,
   "metadata": {},
   "outputs": [],
   "source": [
    "model_CBHG = CBHGModel(\n",
    "    inp_vocab_size=len(train_dataset.arabic_letters) + 1,\n",
    "    targ_vocab_size=len(train_dataset.diacritic_classes),\n",
    ")\n",
    "model_CBHG.train_(train_dataset, batch_size=64, epochs=10, learning_rate=0.001)\n",
    "torch.save(model_CBHG.state_dict(),'models/CBHG_EP10_BS64_LR0.001.pth')"
   ]
  },
  {
   "cell_type": "code",
   "execution_count": null,
   "metadata": {},
   "outputs": [],
   "source": [
    "# model = CBHGModel(\n",
    "#     inp_vocab_size = 37,\n",
    "#     targ_vocab_size = 15,\n",
    "# )\n",
    "\n",
    "# state_dict = torch.load(model_path, map_location=torch.device('cpu'))\n",
    "# model.load_state_dict(state_dict)"
   ]
  },
  {
   "cell_type": "code",
   "execution_count": 38,
   "metadata": {},
   "outputs": [],
   "source": [
    "test_dataset = DiacriticsDataset()\n",
    "test_dataset.load(test_dataset_path, train=False)\n",
    "\n",
    "inputs = test_dataset.character_sentences"
   ]
  },
  {
   "cell_type": "code",
   "execution_count": 39,
   "metadata": {},
   "outputs": [],
   "source": [
    "model_CBHG.eval()\n",
    "\n",
    "use_cuda = torch.cuda.is_available()\n",
    "device = torch.device(\"cuda\" if use_cuda else \"cpu\")\n",
    "\n",
    "test_data_loader = torch.utils.data.DataLoader(test_dataset, batch_size=256, shuffle=False)\n",
    "\n",
    "diacritics = torch.empty(0, 400)\n",
    "with torch.no_grad():\n",
    "    for char_sentence in tqdm(test_data_loader):\n",
    "        char_sentence = char_sentence.to(device)\n",
    "\n",
    "        outputs = model_CBHG(char_sentence)\n",
    "        softmax_output = outputs['diacritics'].to('cpu')\n",
    "\n",
    "        diacritic_sentence = torch.argmax(softmax_output, dim=-1)\n",
    "        diacritics = torch.cat([diacritics, diacritic_sentence], dim=0)"
   ]
  },
  {
   "cell_type": "code",
   "execution_count": 40,
   "metadata": {},
   "outputs": [],
   "source": [
    "mask_no_pad = inputs != test_dataset.pad_char\n",
    "output_diacritics = diacritics[mask_no_pad]\n",
    "output_diacritics = output_diacritics.cpu()\n",
    "\n",
    "df = pd.DataFrame(output_diacritics.numpy(), columns=[\"label\"])\n",
    "df = df.rename_axis('ID').reset_index()\n",
    "df.to_csv(output_csv_path, index=False)"
   ]
  },
  {
   "cell_type": "code",
   "execution_count": 41,
   "metadata": {},
   "outputs": [],
   "source": [
    "with open(test_dataset_path, 'r', encoding='utf-8') as file:\n",
    "    corpus = file.read()\n",
    "\n",
    "diacritizer = Diacritizer()\n",
    "diacritized_corpus = diacritizer.diacritize(corpus, output_diacritics)\n",
    "\n",
    "with open(test_dataset_diacritized_path, 'w', encoding='utf-8') as file:\n",
    "    corpus = file.write(diacritized_corpus)"
   ]
  }
 ],
 "metadata": {
  "kernelspec": {
   "display_name": "Python 3",
   "language": "python",
   "name": "python3"
  },
  "language_info": {
   "codemirror_mode": {
    "name": "ipython",
    "version": 3
   },
   "file_extension": ".py",
   "mimetype": "text/x-python",
   "name": "python",
   "nbconvert_exporter": "python",
   "pygments_lexer": "ipython3",
   "version": "3.10.9"
  }
 },
 "nbformat": 4,
 "nbformat_minor": 2
}
