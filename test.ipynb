{
 "cells": [
  {
   "cell_type": "code",
   "execution_count": 34,
   "metadata": {},
   "outputs": [
    {
     "name": "stdout",
     "output_type": "stream",
     "text": [
      "َ\n",
      "ً\n",
      "ُ\n",
      "ٌ\n",
      "ِ\n",
      "ٍ\n",
      "ْ\n",
      "ّ\n",
      "ّ  they are two consecutive diacritcs ya kiro  َ\n",
      "concatenated form ->  َّ\n",
      "ّ  they are two consecutive diacritcs ya kiro  ً\n",
      "concatenated form ->  ًّ\n",
      "ّ  they are two consecutive diacritcs ya kiro  ُ\n",
      "concatenated form ->  ُّ\n",
      "ّ  they are two consecutive diacritcs ya kiro  ٌ\n",
      "concatenated form ->  ٌّ\n",
      "ّ  they are two consecutive diacritcs ya kiro  ِ\n",
      "concatenated form ->  ِّ\n",
      "ّ  they are two consecutive diacritcs ya kiro  ٍ\n",
      "concatenated form ->  ٍّ\n"
     ]
    }
   ],
   "source": [
    "import pickle\n",
    "# Function to get ASCII code\n",
    "def get_ascii_code(char):\n",
    "    print(char, end= ' --> ')\n",
    "    print(len(char))\n",
    "    if len(char) == 1:\n",
    "        return hex(ord(char))\n",
    "    elif len(char) == 2:\n",
    "        return [hex(ord(char[0])),hex(ord(char[1]))]\n",
    "\n",
    "\n",
    "# printing all the diacratics and their corresponding ids\n",
    "pickle_file_path = 'dataset/diacritic2id.pickle'\n",
    "\n",
    "# Open the pickle file in binary mode (rb stands for read binary)\n",
    "with open(pickle_file_path, 'rb') as file:\n",
    "    # Load the object from the pickle file\n",
    "    diacritic2id = pickle.load(file)\n",
    "    diacritics = diacritic2id.keys()\n",
    "    for item in diacritic2id:\n",
    "        if len(item) == 1:\n",
    "            print(item[0])\n",
    "        elif len(item) == 2:\n",
    "            print(item[0], ' they are two consecutive diacritcs ya kiro ' ,item[1])\n",
    "            print('concatenated form -> ', item)\n",
    "\n",
    "\n",
    "# Get ASCII code of a given character"
   ]
  },
  {
   "cell_type": "code",
   "execution_count": 29,
   "metadata": {},
   "outputs": [
    {
     "name": "stdout",
     "output_type": "stream",
     "text": [
      "َ\n",
      "ْ\n",
      "ُ\n",
      "ُ\n",
      "َ\n",
      "ْ\n",
      "َ\n",
      "َ\n",
      "َ\n",
      "ْ\n",
      "َ\n",
      "ّ\n",
      "َ\n",
      "ُ\n",
      "َ\n",
      "َ\n",
      "ُ\n",
      "َ\n",
      "ْ\n",
      "َ\n",
      "َ\n",
      "ّ\n",
      "َ\n",
      "ْ\n",
      "َ\n",
      "ِ\n",
      "ّ\n",
      "ُ\n"
     ]
    }
   ],
   "source": [
    "import pickle\n",
    "\n",
    "pickle_file_path = 'dataset/diacritic2id.pickle'\n",
    "\n",
    "# Open the pickle file in binary mode (rb stands for read binary)\n",
    "with open(pickle_file_path, 'rb') as file:\n",
    "    # Load the object from the pickle file\n",
    "    diacritic2id = pickle.load(file)\n",
    "    diacritics = diacritic2id.keys()\n",
    "    \n",
    "    sentence = \"قَوْلُهُ : ( أَوْ قَطَعَ الْأَوَّلُ يَدَهُ إلَخْ ) قَالَ الزَّرْكَشِيُّ\"\n",
    "    isDiacritic = False\n",
    "    targtDiacritic = ''\n",
    "    sentenceDiacriticCodes = []\n",
    "    sentenceCharWithNoDiacritics = []\n",
    "    for char in sentence:\n",
    "        if char in diacritics:\n",
    "            if(isDiacritic):\n",
    "                targtDiacritic+= char\n",
    "                sentenceDiacriticCodes.append( diacritic2id[targtDiacritic])\n",
    "            else:\n",
    "                sentenceDiacriticCodes.append( diacritic2id[char])\n",
    "                targtDiacritic+=char\n",
    "            isDiacritic = False\n",
    "        else:\n",
    "            sentenceCharWithNoDiacritics.append(char)\n",
    "           \n",
    "\n",
    "           \n",
    "    # print(sentence[1])\n",
    "    # print(sentence)\n",
    "    # for diacritic, id in diacritic2id.items():\n",
    "    #     print(diacritic, '  :', id)\n",
    "    \n",
    "    def combine_diacritic(diac1, diac2):\n",
    "        "
   ]
  },
  {
   "cell_type": "code",
   "execution_count": null,
   "metadata": {},
   "outputs": [],
   "source": []
  }
 ],
 "metadata": {
  "kernelspec": {
   "display_name": "Python 3",
   "language": "python",
   "name": "python3"
  },
  "language_info": {
   "codemirror_mode": {
    "name": "ipython",
    "version": 3
   },
   "file_extension": ".py",
   "mimetype": "text/x-python",
   "name": "python",
   "nbconvert_exporter": "python",
   "pygments_lexer": "ipython3",
   "version": "3.9.13"
  }
 },
 "nbformat": 4,
 "nbformat_minor": 2
}
